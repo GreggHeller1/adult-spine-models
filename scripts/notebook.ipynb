{
 "cells": [
  {
   "cell_type": "markdown",
   "id": "7a1ac1cb",
   "metadata": {
    "colab_type": "text",
    "id": "view-in-github"
   },
   "source": [
    "<a href=\"https://colab.research.google.com/github/GreggHeller1/Neuron_Tutorial/blob/main/scripts/notebook.ipynb\" target=\"_parent\"><img src=\"https://colab.research.google.com/assets/colab-badge.svg\" alt=\"Open In Colab\"/></a>"
   ]
  },
  {
   "cell_type": "code",
   "execution_count": 1,
   "id": "71ee021b",
   "metadata": {
    "id": "71ee021b"
   },
   "outputs": [
    {
     "name": "stdout",
     "output_type": "stream",
     "text": [
      "False\n"
     ]
    }
   ],
   "source": [
    "#settings\n",
    "%load_ext autoreload\n",
    "%autoreload 2\n",
    "try:\n",
    "  import google.colab\n",
    "  in_colab = True\n",
    "except:\n",
    "  in_colab = False\n",
    "print(in_colab)"
   ]
  },
  {
   "cell_type": "code",
   "execution_count": 2,
   "id": "4e02e926",
   "metadata": {
    "colab": {
     "base_uri": "https://localhost:8080/"
    },
    "id": "4e02e926",
    "outputId": "84475a29-508b-4d96-adf5-e85665e994d2"
   },
   "outputs": [],
   "source": [
    "#installs (for colab only, run this once)\n",
    "if in_colab:\n",
    "    ! git clone https://github.com/GreggHeller1/Adult-Spine-Models.git\n"
   ]
  },
  {
   "cell_type": "code",
   "execution_count": 3,
   "id": "5e9731ca",
   "metadata": {
    "id": "5e9731ca"
   },
   "outputs": [],
   "source": [
    "#local imports\n",
    "#cwd if in colab for imports to work\n",
    "if in_colab:\n",
    "    %cd /content/Adult-Spine-Models\n",
    "    \n",
    "from src import data_io as io\n",
    "from src import plotting\n",
    "from src import computation as comp\n"
   ]
  },
  {
   "cell_type": "code",
   "execution_count": 4,
   "id": "db51ef2e",
   "metadata": {
    "id": "db51ef2e"
   },
   "outputs": [],
   "source": [
    "#imports\n",
    "import xarray as xr\n",
    "import pandas as pd\n",
    "from matplotlib import pyplot as plt\n",
    "import os"
   ]
  },
  {
   "cell_type": "code",
   "execution_count": 5,
   "id": "a06b6e4a",
   "metadata": {
    "colab": {
     "base_uri": "https://localhost:8080/"
    },
    "id": "a06b6e4a",
    "outputId": "989c69e2-c8c4-43e0-9ba6-7a36f66be4c3"
   },
   "outputs": [
    {
     "name": "stdout",
     "output_type": "stream",
     "text": [
      "demo_data/test.txt\n",
      "/Users/Gregg/code/Adult-Spine-Models/scripts\n"
     ]
    },
    {
     "data": {
      "text/plain": [
       "True"
      ]
     },
     "execution_count": 5,
     "metadata": {},
     "output_type": "execute_result"
    }
   ],
   "source": [
    "#define paths\n",
    "#cwd if in colab for file loading to work\n",
    "if in_colab:\n",
    "    %cd /content/Adult-Spine-Models/scripts\n",
    "    \n",
    "test_path = os.path.join('demo_data', 'test.txt')\n",
    "print(test_path)\n",
    "print(os.getcwd())\n",
    "os.path.exists(test_path)"
   ]
  },
  {
   "cell_type": "code",
   "execution_count": 6,
   "id": "b3586a50",
   "metadata": {
    "colab": {
     "base_uri": "https://localhost:8080/"
    },
    "id": "b3586a50",
    "outputId": "56f159c6-3dbc-4b37-d217-083fb5d2e792"
   },
   "outputs": [
    {
     "name": "stdout",
     "output_type": "stream",
     "text": [
      "Reading file at demo_data/test.txt\n",
      "Testing whether we can read the contents of a text file in colab\n",
      "\n",
      "maybe we need another line?\n"
     ]
    }
   ],
   "source": [
    "#data inputs\n",
    "io.readfile(test_path)\n",
    "\n"
   ]
  },
  {
   "cell_type": "code",
   "execution_count": null,
   "id": "82a5927b",
   "metadata": {
    "id": "82a5927b"
   },
   "outputs": [],
   "source": [
    "#data manipulation\n"
   ]
  },
  {
   "cell_type": "code",
   "execution_count": null,
   "id": "f700a7f6",
   "metadata": {
    "id": "f700a7f6"
   },
   "outputs": [],
   "source": [
    "#plots\n"
   ]
  },
  {
   "cell_type": "code",
   "execution_count": null,
   "id": "8dd23ba7",
   "metadata": {
    "id": "8dd23ba7"
   },
   "outputs": [],
   "source": [
    "#data output\n"
   ]
  }
 ],
 "metadata": {
  "colab": {
   "include_colab_link": true,
   "name": "notebook.ipynb",
   "provenance": []
  },
  "jupytext": {
   "formats": "ipynb,py,md"
  },
  "kernelspec": {
   "display_name": "Python 3 (ipykernel)",
   "language": "python",
   "name": "python3"
  },
  "language_info": {
   "codemirror_mode": {
    "name": "ipython",
    "version": 3
   },
   "file_extension": ".py",
   "mimetype": "text/x-python",
   "name": "python",
   "nbconvert_exporter": "python",
   "pygments_lexer": "ipython3",
   "version": "3.10.8"
  }
 },
 "nbformat": 4,
 "nbformat_minor": 5
}
